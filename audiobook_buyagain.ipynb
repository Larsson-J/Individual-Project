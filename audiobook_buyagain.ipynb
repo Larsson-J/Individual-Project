{
 "cells": [
  {
   "cell_type": "code",
   "execution_count": 1,
   "metadata": {},
   "outputs": [],
   "source": [
    "# importing the neccesary libraries\n",
    "\n",
    "import pandas as pd\n",
    "import numpy as np\n",
    "import sklearn\n",
    "import matplotlib.pyplot as plt\n",
    "import seaborn as sns\n",
    "from sklearn.preprocessing import LabelEncoder\n",
    "from sklearn.preprocessing import StandardScaler\n",
    "from sklearn.metrics import classification_report\n",
    "from sklearn.linear_model import LogisticRegression\n",
    "from sklearn.model_selection import train_test_split\n",
    "%matplotlib inline"
   ]
  },
  {
   "cell_type": "code",
   "execution_count": 2,
   "metadata": {},
   "outputs": [],
   "source": [
    "# reading in the data\n",
    "\n",
    "df = pd.read_csv(r\"C:\\Users\\Johan Larsson\\Desktop\\Individual Project\\Audiobook\\Data/audiobook_data_2.csv\")"
   ]
  },
  {
   "cell_type": "code",
   "execution_count": 3,
   "metadata": {},
   "outputs": [
    {
     "data": {
      "text/html": [
       "<div>\n",
       "<style scoped>\n",
       "    .dataframe tbody tr th:only-of-type {\n",
       "        vertical-align: middle;\n",
       "    }\n",
       "\n",
       "    .dataframe tbody tr th {\n",
       "        vertical-align: top;\n",
       "    }\n",
       "\n",
       "    .dataframe thead th {\n",
       "        text-align: right;\n",
       "    }\n",
       "</style>\n",
       "<table border=\"1\" class=\"dataframe\">\n",
       "  <thead>\n",
       "    <tr style=\"text-align: right;\">\n",
       "      <th></th>\n",
       "      <th>user_id</th>\n",
       "      <th>book_length_min_overall</th>\n",
       "      <th>book_length_min_avg</th>\n",
       "      <th>price_overall</th>\n",
       "      <th>price_avg</th>\n",
       "      <th>review</th>\n",
       "      <th>review10_10</th>\n",
       "      <th>completion</th>\n",
       "      <th>minutes_listened</th>\n",
       "      <th>support_request</th>\n",
       "      <th>last_visited_mins_purchase_date</th>\n",
       "      <th>target</th>\n",
       "    </tr>\n",
       "  </thead>\n",
       "  <tbody>\n",
       "    <tr>\n",
       "      <th>0</th>\n",
       "      <td>994</td>\n",
       "      <td>1620.0</td>\n",
       "      <td>1620</td>\n",
       "      <td>19.73</td>\n",
       "      <td>19.73</td>\n",
       "      <td>yes</td>\n",
       "      <td>10.00</td>\n",
       "      <td>0.99</td>\n",
       "      <td>1603.8</td>\n",
       "      <td>5</td>\n",
       "      <td>92</td>\n",
       "      <td>no</td>\n",
       "    </tr>\n",
       "    <tr>\n",
       "      <th>1</th>\n",
       "      <td>1143</td>\n",
       "      <td>2160.0</td>\n",
       "      <td>2160</td>\n",
       "      <td>5.33</td>\n",
       "      <td>5.33</td>\n",
       "      <td>no</td>\n",
       "      <td>8.91</td>\n",
       "      <td>0.00</td>\n",
       "      <td>0.0</td>\n",
       "      <td>0</td>\n",
       "      <td>0</td>\n",
       "      <td>no</td>\n",
       "    </tr>\n",
       "    <tr>\n",
       "      <th>2</th>\n",
       "      <td>2059</td>\n",
       "      <td>2160.0</td>\n",
       "      <td>2160</td>\n",
       "      <td>5.33</td>\n",
       "      <td>5.33</td>\n",
       "      <td>no</td>\n",
       "      <td>8.91</td>\n",
       "      <td>0.00</td>\n",
       "      <td>0.0</td>\n",
       "      <td>0</td>\n",
       "      <td>388</td>\n",
       "      <td>no</td>\n",
       "    </tr>\n",
       "    <tr>\n",
       "      <th>3</th>\n",
       "      <td>2882</td>\n",
       "      <td>1620.0</td>\n",
       "      <td>1620</td>\n",
       "      <td>5.96</td>\n",
       "      <td>5.96</td>\n",
       "      <td>no</td>\n",
       "      <td>8.91</td>\n",
       "      <td>0.42</td>\n",
       "      <td>680.4</td>\n",
       "      <td>1</td>\n",
       "      <td>129</td>\n",
       "      <td>no</td>\n",
       "    </tr>\n",
       "    <tr>\n",
       "      <th>4</th>\n",
       "      <td>3342</td>\n",
       "      <td>2160.0</td>\n",
       "      <td>2160</td>\n",
       "      <td>5.33</td>\n",
       "      <td>5.33</td>\n",
       "      <td>no</td>\n",
       "      <td>8.91</td>\n",
       "      <td>0.22</td>\n",
       "      <td>475.2</td>\n",
       "      <td>0</td>\n",
       "      <td>361</td>\n",
       "      <td>no</td>\n",
       "    </tr>\n",
       "    <tr>\n",
       "      <th>5</th>\n",
       "      <td>3416</td>\n",
       "      <td>2160.0</td>\n",
       "      <td>2160</td>\n",
       "      <td>4.61</td>\n",
       "      <td>4.61</td>\n",
       "      <td>no</td>\n",
       "      <td>8.91</td>\n",
       "      <td>0.00</td>\n",
       "      <td>0.0</td>\n",
       "      <td>0</td>\n",
       "      <td>0</td>\n",
       "      <td>no</td>\n",
       "    </tr>\n",
       "    <tr>\n",
       "      <th>6</th>\n",
       "      <td>4949</td>\n",
       "      <td>2160.0</td>\n",
       "      <td>2160</td>\n",
       "      <td>5.33</td>\n",
       "      <td>5.33</td>\n",
       "      <td>no</td>\n",
       "      <td>8.91</td>\n",
       "      <td>0.04</td>\n",
       "      <td>86.4</td>\n",
       "      <td>0</td>\n",
       "      <td>366</td>\n",
       "      <td>no</td>\n",
       "    </tr>\n",
       "  </tbody>\n",
       "</table>\n",
       "</div>"
      ],
      "text/plain": [
       "   user_id  book_length_min_overall  book_length_min_avg  price_overall  \\\n",
       "0      994                   1620.0                 1620          19.73   \n",
       "1     1143                   2160.0                 2160           5.33   \n",
       "2     2059                   2160.0                 2160           5.33   \n",
       "3     2882                   1620.0                 1620           5.96   \n",
       "4     3342                   2160.0                 2160           5.33   \n",
       "5     3416                   2160.0                 2160           4.61   \n",
       "6     4949                   2160.0                 2160           5.33   \n",
       "\n",
       "   price_avg review  review10_10  completion  minutes_listened  \\\n",
       "0      19.73    yes        10.00        0.99            1603.8   \n",
       "1       5.33     no         8.91        0.00               0.0   \n",
       "2       5.33     no         8.91        0.00               0.0   \n",
       "3       5.96     no         8.91        0.42             680.4   \n",
       "4       5.33     no         8.91        0.22             475.2   \n",
       "5       4.61     no         8.91        0.00               0.0   \n",
       "6       5.33     no         8.91        0.04              86.4   \n",
       "\n",
       "   support_request  last_visited_mins_purchase_date target  \n",
       "0                5                               92     no  \n",
       "1                0                                0     no  \n",
       "2                0                              388     no  \n",
       "3                1                              129     no  \n",
       "4                0                              361     no  \n",
       "5                0                                0     no  \n",
       "6                0                              366     no  "
      ]
     },
     "execution_count": 3,
     "metadata": {},
     "output_type": "execute_result"
    }
   ],
   "source": [
    "df.head(7)"
   ]
  },
  {
   "cell_type": "code",
   "execution_count": 4,
   "metadata": {},
   "outputs": [
    {
     "data": {
      "text/plain": [
       "(14084, 12)"
      ]
     },
     "execution_count": 4,
     "metadata": {},
     "output_type": "execute_result"
    }
   ],
   "source": [
    "df.shape"
   ]
  },
  {
   "cell_type": "code",
   "execution_count": 5,
   "metadata": {},
   "outputs": [
    {
     "data": {
      "text/plain": [
       "array(['user_id', 'book_length_min_overall', 'book_length_min_avg',\n",
       "       'price_overall', 'price_avg', 'review', 'review10_10',\n",
       "       'completion', 'minutes_listened', 'support_request',\n",
       "       'last_visited_mins_purchase_date', 'target'], dtype=object)"
      ]
     },
     "execution_count": 5,
     "metadata": {},
     "output_type": "execute_result"
    }
   ],
   "source": [
    "df.columns.values"
   ]
  },
  {
   "cell_type": "code",
   "execution_count": 6,
   "metadata": {},
   "outputs": [
    {
     "data": {
      "text/plain": [
       "user_id                            0\n",
       "book_length_min_overall            0\n",
       "book_length_min_avg                0\n",
       "price_overall                      0\n",
       "price_avg                          0\n",
       "review                             0\n",
       "review10_10                        0\n",
       "completion                         0\n",
       "minutes_listened                   0\n",
       "support_request                    0\n",
       "last_visited_mins_purchase_date    0\n",
       "target                             0\n",
       "dtype: int64"
      ]
     },
     "execution_count": 6,
     "metadata": {},
     "output_type": "execute_result"
    }
   ],
   "source": [
    "# checking if they are any NULL values\n",
    "\n",
    "df.isna().sum()"
   ]
  },
  {
   "cell_type": "code",
   "execution_count": 7,
   "metadata": {},
   "outputs": [
    {
     "data": {
      "text/html": [
       "<div>\n",
       "<style scoped>\n",
       "    .dataframe tbody tr th:only-of-type {\n",
       "        vertical-align: middle;\n",
       "    }\n",
       "\n",
       "    .dataframe tbody tr th {\n",
       "        vertical-align: top;\n",
       "    }\n",
       "\n",
       "    .dataframe thead th {\n",
       "        text-align: right;\n",
       "    }\n",
       "</style>\n",
       "<table border=\"1\" class=\"dataframe\">\n",
       "  <thead>\n",
       "    <tr style=\"text-align: right;\">\n",
       "      <th></th>\n",
       "      <th>user_id</th>\n",
       "      <th>book_length_min_overall</th>\n",
       "      <th>book_length_min_avg</th>\n",
       "      <th>price_overall</th>\n",
       "      <th>price_avg</th>\n",
       "      <th>review10_10</th>\n",
       "      <th>completion</th>\n",
       "      <th>minutes_listened</th>\n",
       "      <th>support_request</th>\n",
       "      <th>last_visited_mins_purchase_date</th>\n",
       "    </tr>\n",
       "  </thead>\n",
       "  <tbody>\n",
       "    <tr>\n",
       "      <th>count</th>\n",
       "      <td>14084.000000</td>\n",
       "      <td>14084.000000</td>\n",
       "      <td>14084.000000</td>\n",
       "      <td>14084.000000</td>\n",
       "      <td>14084.000000</td>\n",
       "      <td>14084.000000</td>\n",
       "      <td>14084.000000</td>\n",
       "      <td>14084.000000</td>\n",
       "      <td>14084.000000</td>\n",
       "      <td>14084.000000</td>\n",
       "    </tr>\n",
       "    <tr>\n",
       "      <th>mean</th>\n",
       "      <td>16772.491551</td>\n",
       "      <td>1591.281685</td>\n",
       "      <td>1678.608634</td>\n",
       "      <td>7.103791</td>\n",
       "      <td>7.543805</td>\n",
       "      <td>8.909795</td>\n",
       "      <td>0.125659</td>\n",
       "      <td>189.888983</td>\n",
       "      <td>0.070222</td>\n",
       "      <td>61.935033</td>\n",
       "    </tr>\n",
       "    <tr>\n",
       "      <th>std</th>\n",
       "      <td>9691.807248</td>\n",
       "      <td>504.340663</td>\n",
       "      <td>654.838599</td>\n",
       "      <td>4.931673</td>\n",
       "      <td>5.560129</td>\n",
       "      <td>0.643406</td>\n",
       "      <td>0.241206</td>\n",
       "      <td>371.084010</td>\n",
       "      <td>0.472157</td>\n",
       "      <td>88.207634</td>\n",
       "    </tr>\n",
       "    <tr>\n",
       "      <th>min</th>\n",
       "      <td>2.000000</td>\n",
       "      <td>216.000000</td>\n",
       "      <td>216.000000</td>\n",
       "      <td>3.860000</td>\n",
       "      <td>3.860000</td>\n",
       "      <td>1.000000</td>\n",
       "      <td>0.000000</td>\n",
       "      <td>0.000000</td>\n",
       "      <td>0.000000</td>\n",
       "      <td>0.000000</td>\n",
       "    </tr>\n",
       "    <tr>\n",
       "      <th>25%</th>\n",
       "      <td>8368.000000</td>\n",
       "      <td>1188.000000</td>\n",
       "      <td>1188.000000</td>\n",
       "      <td>5.330000</td>\n",
       "      <td>5.330000</td>\n",
       "      <td>8.910000</td>\n",
       "      <td>0.000000</td>\n",
       "      <td>0.000000</td>\n",
       "      <td>0.000000</td>\n",
       "      <td>0.000000</td>\n",
       "    </tr>\n",
       "    <tr>\n",
       "      <th>50%</th>\n",
       "      <td>16711.500000</td>\n",
       "      <td>1620.000000</td>\n",
       "      <td>1620.000000</td>\n",
       "      <td>5.950000</td>\n",
       "      <td>6.070000</td>\n",
       "      <td>8.910000</td>\n",
       "      <td>0.000000</td>\n",
       "      <td>0.000000</td>\n",
       "      <td>0.000000</td>\n",
       "      <td>11.000000</td>\n",
       "    </tr>\n",
       "    <tr>\n",
       "      <th>75%</th>\n",
       "      <td>25187.250000</td>\n",
       "      <td>2160.000000</td>\n",
       "      <td>2160.000000</td>\n",
       "      <td>8.000000</td>\n",
       "      <td>8.000000</td>\n",
       "      <td>8.910000</td>\n",
       "      <td>0.130000</td>\n",
       "      <td>194.400000</td>\n",
       "      <td>0.000000</td>\n",
       "      <td>105.000000</td>\n",
       "    </tr>\n",
       "    <tr>\n",
       "      <th>max</th>\n",
       "      <td>33683.000000</td>\n",
       "      <td>2160.000000</td>\n",
       "      <td>7020.000000</td>\n",
       "      <td>130.940000</td>\n",
       "      <td>130.940000</td>\n",
       "      <td>10.000000</td>\n",
       "      <td>1.000000</td>\n",
       "      <td>2160.000000</td>\n",
       "      <td>30.000000</td>\n",
       "      <td>464.000000</td>\n",
       "    </tr>\n",
       "  </tbody>\n",
       "</table>\n",
       "</div>"
      ],
      "text/plain": [
       "            user_id  book_length_min_overall  book_length_min_avg  \\\n",
       "count  14084.000000             14084.000000         14084.000000   \n",
       "mean   16772.491551              1591.281685          1678.608634   \n",
       "std     9691.807248               504.340663           654.838599   \n",
       "min        2.000000               216.000000           216.000000   \n",
       "25%     8368.000000              1188.000000          1188.000000   \n",
       "50%    16711.500000              1620.000000          1620.000000   \n",
       "75%    25187.250000              2160.000000          2160.000000   \n",
       "max    33683.000000              2160.000000          7020.000000   \n",
       "\n",
       "       price_overall     price_avg   review10_10    completion  \\\n",
       "count   14084.000000  14084.000000  14084.000000  14084.000000   \n",
       "mean        7.103791      7.543805      8.909795      0.125659   \n",
       "std         4.931673      5.560129      0.643406      0.241206   \n",
       "min         3.860000      3.860000      1.000000      0.000000   \n",
       "25%         5.330000      5.330000      8.910000      0.000000   \n",
       "50%         5.950000      6.070000      8.910000      0.000000   \n",
       "75%         8.000000      8.000000      8.910000      0.130000   \n",
       "max       130.940000    130.940000     10.000000      1.000000   \n",
       "\n",
       "       minutes_listened  support_request  last_visited_mins_purchase_date  \n",
       "count      14084.000000     14084.000000                     14084.000000  \n",
       "mean         189.888983         0.070222                        61.935033  \n",
       "std          371.084010         0.472157                        88.207634  \n",
       "min            0.000000         0.000000                         0.000000  \n",
       "25%            0.000000         0.000000                         0.000000  \n",
       "50%            0.000000         0.000000                        11.000000  \n",
       "75%          194.400000         0.000000                       105.000000  \n",
       "max         2160.000000        30.000000                       464.000000  "
      ]
     },
     "execution_count": 7,
     "metadata": {},
     "output_type": "execute_result"
    }
   ],
   "source": [
    "df.describe()"
   ]
  },
  {
   "cell_type": "code",
   "execution_count": 8,
   "metadata": {},
   "outputs": [
    {
     "data": {
      "text/plain": [
       "no     11847\n",
       "yes     2237\n",
       "Name: target, dtype: int64"
      ]
     },
     "execution_count": 8,
     "metadata": {},
     "output_type": "execute_result"
    }
   ],
   "source": [
    "#Counting the values in the column 'target'\n",
    "\n",
    "df['target'].value_counts()"
   ]
  },
  {
   "cell_type": "code",
   "execution_count": 9,
   "metadata": {},
   "outputs": [
    {
     "data": {
      "text/plain": [
       "<matplotlib.axes._subplots.AxesSubplot at 0x24120e7c320>"
      ]
     },
     "execution_count": 9,
     "metadata": {},
     "output_type": "execute_result"
    },
    {
     "data": {
      "image/png": "[encoded data removed]",
      "text/plain": [
       "<Figure size 432x288 with 1 Axes>"
      ]
     },
     "metadata": {
      "needs_background": "light"
     },
     "output_type": "display_data"
    }
   ],
   "source": [
    "sns.countplot(df['target'])"
   ]
  },
  {
   "cell_type": "code",
   "execution_count": 10,
   "metadata": {},
   "outputs": [
    {
     "name": "stdout",
     "output_type": "stream",
     "text": [
      "84.11672820221528 % of customers bought again.\n",
      "15.88327179778472 % of customers did not buy again.\n"
     ]
    }
   ],
   "source": [
    "# checking the precentage of the different values\n",
    "\n",
    "not_bought_again = df[df.target == 'no']\n",
    "bought_again =  df[df.target == 'yes']\n",
    "\n",
    "num_not_bought_again = not_bought_again.shape[0]\n",
    "num_bought_again = bought_again.shape[0]\n",
    "\n",
    "print( num_not_bought_again / (num_not_bought_again + num_bought_again) * 100 , \"% of customers bought again.\")\n",
    "\n",
    "print( num_bought_again / (num_bought_again + num_not_bought_again) * 100 , \"% of customers did not buy again.\")"
   ]
  },
  {
   "cell_type": "code",
   "execution_count": 11,
   "metadata": {},
   "outputs": [
    {
     "data": {
      "text/plain": [
       "<matplotlib.axes._subplots.AxesSubplot at 0x241210a2390>"
      ]
     },
     "execution_count": 11,
     "metadata": {},
     "output_type": "execute_result"
    },
    {
     "data": {
      "image/png": "[encoded data removed]",
      "text/plain": [
       "<Figure size 432x288 with 1 Axes>"
      ]
     },
     "metadata": {
      "needs_background": "light"
     },
     "output_type": "display_data"
    }
   ],
   "source": [
    "# barplot showing if the customers did a review next to if they bought again\n",
    "\n",
    "sns.countplot (x='review', hue='target', data = df)"
   ]
  },
  {
   "cell_type": "code",
   "execution_count": 12,
   "metadata": {},
   "outputs": [
    {
     "data": {
      "text/plain": [
       "<matplotlib.axes._subplots.AxesSubplot at 0x24121111a90>"
      ]
     },
     "execution_count": 12,
     "metadata": {},
     "output_type": "execute_result"
    },
    {
     "data": {
      "image/png": "[encoded data removed]",
      "text/plain": [
       "<Figure size 432x288 with 1 Axes>"
      ]
     },
     "metadata": {
      "needs_background": "light"
     },
     "output_type": "display_data"
    }
   ],
   "source": [
    "sns.countplot (x='support_request', hue='target', data = df)"
   ]
  },
  {
   "cell_type": "code",
   "execution_count": 13,
   "metadata": {},
   "outputs": [],
   "source": [
    "# dropping the 'user_id' column\n",
    "\n",
    "clean_df = df = df.drop('user_id', axis=1)"
   ]
  },
  {
   "cell_type": "code",
   "execution_count": 14,
   "metadata": {},
   "outputs": [
    {
     "data": {
      "text/plain": [
       "(14084, 11)"
      ]
     },
     "execution_count": 14,
     "metadata": {},
     "output_type": "execute_result"
    }
   ],
   "source": [
    "clean_df.shape"
   ]
  },
  {
   "cell_type": "code",
   "execution_count": 15,
   "metadata": {},
   "outputs": [],
   "source": [
    "# transforming the values to numbers\n",
    "\n",
    "for column in clean_df.columns:\n",
    "    if clean_df[column].dtype == np.number:\n",
    "        continue\n",
    "    clean_df[column] = LabelEncoder().fit_transform(clean_df[column])"
   ]
  },
  {
   "cell_type": "code",
   "execution_count": 16,
   "metadata": {},
   "outputs": [
    {
     "data": {
      "text/plain": [
       "book_length_min_overall            float64\n",
       "book_length_min_avg                  int64\n",
       "price_overall                      float64\n",
       "price_avg                          float64\n",
       "review                               int32\n",
       "review10_10                        float64\n",
       "completion                         float64\n",
       "minutes_listened                   float64\n",
       "support_request                      int64\n",
       "last_visited_mins_purchase_date      int64\n",
       "target                               int32\n",
       "dtype: object"
      ]
     },
     "execution_count": 16,
     "metadata": {},
     "output_type": "execute_result"
    }
   ],
   "source": [
    "clean_df.dtypes"
   ]
  },
  {
   "cell_type": "code",
   "execution_count": 17,
   "metadata": {},
   "outputs": [
    {
     "data": {
      "text/html": [
       "<div>\n",
       "<style scoped>\n",
       "    .dataframe tbody tr th:only-of-type {\n",
       "        vertical-align: middle;\n",
       "    }\n",
       "\n",
       "    .dataframe tbody tr th {\n",
       "        vertical-align: top;\n",
       "    }\n",
       "\n",
       "    .dataframe thead th {\n",
       "        text-align: right;\n",
       "    }\n",
       "</style>\n",
       "<table border=\"1\" class=\"dataframe\">\n",
       "  <thead>\n",
       "    <tr style=\"text-align: right;\">\n",
       "      <th></th>\n",
       "      <th>book_length_min_overall</th>\n",
       "      <th>book_length_min_avg</th>\n",
       "      <th>price_overall</th>\n",
       "      <th>price_avg</th>\n",
       "      <th>review</th>\n",
       "      <th>review10_10</th>\n",
       "      <th>completion</th>\n",
       "      <th>minutes_listened</th>\n",
       "      <th>support_request</th>\n",
       "      <th>last_visited_mins_purchase_date</th>\n",
       "      <th>target</th>\n",
       "    </tr>\n",
       "  </thead>\n",
       "  <tbody>\n",
       "    <tr>\n",
       "      <th>0</th>\n",
       "      <td>1620.0</td>\n",
       "      <td>12</td>\n",
       "      <td>19.73</td>\n",
       "      <td>19.73</td>\n",
       "      <td>1</td>\n",
       "      <td>10.00</td>\n",
       "      <td>0.99</td>\n",
       "      <td>1603.8</td>\n",
       "      <td>5</td>\n",
       "      <td>92</td>\n",
       "      <td>0</td>\n",
       "    </tr>\n",
       "    <tr>\n",
       "      <th>1</th>\n",
       "      <td>2160.0</td>\n",
       "      <td>17</td>\n",
       "      <td>5.33</td>\n",
       "      <td>5.33</td>\n",
       "      <td>0</td>\n",
       "      <td>8.91</td>\n",
       "      <td>0.00</td>\n",
       "      <td>0.0</td>\n",
       "      <td>0</td>\n",
       "      <td>0</td>\n",
       "      <td>0</td>\n",
       "    </tr>\n",
       "    <tr>\n",
       "      <th>2</th>\n",
       "      <td>2160.0</td>\n",
       "      <td>17</td>\n",
       "      <td>5.33</td>\n",
       "      <td>5.33</td>\n",
       "      <td>0</td>\n",
       "      <td>8.91</td>\n",
       "      <td>0.00</td>\n",
       "      <td>0.0</td>\n",
       "      <td>0</td>\n",
       "      <td>369</td>\n",
       "      <td>0</td>\n",
       "    </tr>\n",
       "    <tr>\n",
       "      <th>3</th>\n",
       "      <td>1620.0</td>\n",
       "      <td>12</td>\n",
       "      <td>5.96</td>\n",
       "      <td>5.96</td>\n",
       "      <td>0</td>\n",
       "      <td>8.91</td>\n",
       "      <td>0.42</td>\n",
       "      <td>680.4</td>\n",
       "      <td>1</td>\n",
       "      <td>129</td>\n",
       "      <td>0</td>\n",
       "    </tr>\n",
       "    <tr>\n",
       "      <th>4</th>\n",
       "      <td>2160.0</td>\n",
       "      <td>17</td>\n",
       "      <td>5.33</td>\n",
       "      <td>5.33</td>\n",
       "      <td>0</td>\n",
       "      <td>8.91</td>\n",
       "      <td>0.22</td>\n",
       "      <td>475.2</td>\n",
       "      <td>0</td>\n",
       "      <td>356</td>\n",
       "      <td>0</td>\n",
       "    </tr>\n",
       "  </tbody>\n",
       "</table>\n",
       "</div>"
      ],
      "text/plain": [
       "   book_length_min_overall  book_length_min_avg  price_overall  price_avg  \\\n",
       "0                   1620.0                   12          19.73      19.73   \n",
       "1                   2160.0                   17           5.33       5.33   \n",
       "2                   2160.0                   17           5.33       5.33   \n",
       "3                   1620.0                   12           5.96       5.96   \n",
       "4                   2160.0                   17           5.33       5.33   \n",
       "\n",
       "   review  review10_10  completion  minutes_listened  support_request  \\\n",
       "0       1        10.00        0.99            1603.8                5   \n",
       "1       0         8.91        0.00               0.0                0   \n",
       "2       0         8.91        0.00               0.0                0   \n",
       "3       0         8.91        0.42             680.4                1   \n",
       "4       0         8.91        0.22             475.2                0   \n",
       "\n",
       "   last_visited_mins_purchase_date  target  \n",
       "0                               92       0  \n",
       "1                                0       0  \n",
       "2                              369       0  \n",
       "3                              129       0  \n",
       "4                              356       0  "
      ]
     },
     "execution_count": 17,
     "metadata": {},
     "output_type": "execute_result"
    }
   ],
   "source": [
    "clean_df.head()"
   ]
  },
  {
   "cell_type": "code",
   "execution_count": 18,
   "metadata": {},
   "outputs": [],
   "source": [
    "# scale the clean dataframe\n",
    "\n",
    "X = clean_df.drop('target', axis= 1)\n",
    "y = clean_df['target']\n",
    "\n",
    "#standardizing/scaling the feature\n",
    "\n",
    "X = StandardScaler().fit_transform(X)"
   ]
  },
  {
   "cell_type": "code",
   "execution_count": 19,
   "metadata": {},
   "outputs": [],
   "source": [
    "# spliting the data into 80% train and 20% test\n",
    "\n",
    "x_train, x_test, y_train, y_test = train_test_split(X, y, test_size=0.2, random_state=42)"
   ]
  },
  {
   "cell_type": "code",
   "execution_count": 20,
   "metadata": {},
   "outputs": [],
   "source": [
    "# time to create the model!"
   ]
  },
  {
   "cell_type": "code",
   "execution_count": 21,
   "metadata": {},
   "outputs": [
    {
     "data": {
      "text/plain": [
       "LogisticRegression(C=1.0, class_weight=None, dual=False, fit_intercept=True,\n",
       "                   intercept_scaling=1, l1_ratio=None, max_iter=100,\n",
       "                   multi_class='auto', n_jobs=None, penalty='l2',\n",
       "                   random_state=None, solver='lbfgs', tol=0.0001, verbose=0,\n",
       "                   warm_start=False)"
      ]
     },
     "execution_count": 21,
     "metadata": {},
     "output_type": "execute_result"
    }
   ],
   "source": [
    "model = LogisticRegression()\n",
    "\n",
    "# training the model\n",
    "\n",
    "model.fit(x_train, y_train)"
   ]
  },
  {
   "cell_type": "code",
   "execution_count": 22,
   "metadata": {},
   "outputs": [
    {
     "name": "stdout",
     "output_type": "stream",
     "text": [
      "[0 0 0 ... 0 0 0]\n"
     ]
    }
   ],
   "source": [
    "predictions = model.predict(x_test)\n",
    "\n",
    "print(predictions)"
   ]
  },
  {
   "cell_type": "code",
   "execution_count": 23,
   "metadata": {},
   "outputs": [
    {
     "name": "stdout",
     "output_type": "stream",
     "text": [
      "              precision    recall  f1-score   support\n",
      "\n",
      "           0       0.91      0.99      0.94      2388\n",
      "           1       0.85      0.44      0.58       429\n",
      "\n",
      "    accuracy                           0.90      2817\n",
      "   macro avg       0.88      0.71      0.76      2817\n",
      "weighted avg       0.90      0.90      0.89      2817\n",
      "\n"
     ]
    }
   ],
   "source": [
    "print(classification_report (y_test, predictions))"
   ]
  },
  {
   "cell_type": "code",
   "execution_count": null,
   "metadata": {},
   "outputs": [],
   "source": []
  }
 ],
 "metadata": {
  "kernelspec": {
   "display_name": "Python 3",
   "language": "python",
   "name": "python3"
  },
  "language_info": {
   "codemirror_mode": {
    "name": "ipython",
    "version": 3
   },
   "file_extension": ".py",
   "mimetype": "text/x-python",
   "name": "python",
   "nbconvert_exporter": "python",
   "pygments_lexer": "ipython3",
   "version": "3.7.3"
  }
 },
 "nbformat": 4,
 "nbformat_minor": 2
}
